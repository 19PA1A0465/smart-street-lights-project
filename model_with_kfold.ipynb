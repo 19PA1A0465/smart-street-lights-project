{
  "nbformat": 4,
  "nbformat_minor": 0,
  "metadata": {
    "colab": {
      "name": "model with kfold.ipynb",
      "provenance": [],
      "authorship_tag": "ABX9TyNxI617Zi3G+n9Paa/4ofvZ",
      "include_colab_link": true
    },
    "kernelspec": {
      "name": "python3",
      "display_name": "Python 3"
    },
    "language_info": {
      "name": "python"
    }
  },
  "cells": [
    {
      "cell_type": "markdown",
      "metadata": {
        "id": "view-in-github",
        "colab_type": "text"
      },
      "source": [
        "<a href=\"https://colab.research.google.com/github/19PA1A0465/mini-project/blob/main/model_with_kfold.ipynb\" target=\"_parent\"><img src=\"https://colab.research.google.com/assets/colab-badge.svg\" alt=\"Open In Colab\"/></a>"
      ]
    },
    {
      "cell_type": "code",
      "execution_count": 6,
      "metadata": {
        "id": "6yx6tBeOBEsK"
      },
      "outputs": [],
      "source": [
        " #importing all the required packages\n",
        "import pandas as pd # for handling data in the form of tables\n",
        "import numpy as np # For handling matrix\n",
        "from sklearn.model_selection import train_test_split # For spliting the data into train and test\n",
        "from sklearn import metrics # for calculation of accuracy and precision\n",
        "from sklearn.metrics import confusion_matrix #performance measures\n",
        "from sklearn import svm \n",
        "import seaborn as sns#for visualization\n",
        "from matplotlib import pyplot\n",
        "from sklearn.metrics import plot_confusion_matrix,classification_report,plot_precision_recall_curve,plot_roc_curve# to calculate performance of model\n",
        "from sklearn.tree import DecisionTreeClassifier\n",
        "from sklearn.ensemble import AdaBoostClassifier\n",
        "from sklearn.ensemble import RandomForestClassifier\n",
        "from sklearn.metrics import accuracy_score\n",
        "from sklearn.model_selection import KFold\n",
        "from sklearn.model_selection import cross_val_score\n",
        "from numpy import mean\n",
        "from sklearn.model_selection import LeaveOneOut\n",
        "from sklearn.model_selection import cross_val_score\n",
        "\n",
        "\n",
        "\n",
        "\n",
        "\n",
        "\n"
      ]
    },
    {
      "cell_type": "markdown",
      "source": [
        "# **Reading** **the** **data**"
      ],
      "metadata": {
        "id": "yHDyKOEYybGF"
      }
    },
    {
      "cell_type": "code",
      "source": [
        "\n",
        "dataset=pd.read_csv('feature data of all bands.csv')#read csv file"
      ],
      "metadata": {
        "id": "G4onLZq5Bb2B"
      },
      "execution_count": 7,
      "outputs": []
    },
    {
      "cell_type": "markdown",
      "source": [
        "# **Data** **Inspection**"
      ],
      "metadata": {
        "id": "GiqxcCpVyqUz"
      }
    },
    {
      "cell_type": "code",
      "source": [
        "# To see the first 5 rows of our dataset we use head() \n",
        "dataset.head()"
      ],
      "metadata": {
        "colab": {
          "base_uri": "https://localhost:8080/",
          "height": 206
        },
        "id": "uQkj6-kEywPO",
        "outputId": "b16381a7-4219-4a9d-812d-99b62efdb91d"
      },
      "execution_count": 8,
      "outputs": [
        {
          "output_type": "execute_result",
          "data": {
            "text/plain": [
              "       Mean  Kurtosis  Varience  Max_Svd  Entropy_Svd  Skewness  Target\n",
              "0  0.000753    3.9757    0.0020   2.8817      43.5388    0.0135       0\n",
              "1 -0.000102    4.4953    0.0017   2.6056      35.7801    0.0015       0\n",
              "2 -0.000090    4.5453    0.0016   2.5671      35.2603   -0.0126       0\n",
              "3  0.000496    4.4307    0.0017   2.6443      36.7637   -0.0053       0\n",
              "4 -0.000377    3.1227    0.0030   3.4908      61.7647   -0.1275       0"
            ],
            "text/html": [
              "\n",
              "  <div id=\"df-a85f8037-d448-4db8-9076-19d40dea7bcf\">\n",
              "    <div class=\"colab-df-container\">\n",
              "      <div>\n",
              "<style scoped>\n",
              "    .dataframe tbody tr th:only-of-type {\n",
              "        vertical-align: middle;\n",
              "    }\n",
              "\n",
              "    .dataframe tbody tr th {\n",
              "        vertical-align: top;\n",
              "    }\n",
              "\n",
              "    .dataframe thead th {\n",
              "        text-align: right;\n",
              "    }\n",
              "</style>\n",
              "<table border=\"1\" class=\"dataframe\">\n",
              "  <thead>\n",
              "    <tr style=\"text-align: right;\">\n",
              "      <th></th>\n",
              "      <th>Mean</th>\n",
              "      <th>Kurtosis</th>\n",
              "      <th>Varience</th>\n",
              "      <th>Max_Svd</th>\n",
              "      <th>Entropy_Svd</th>\n",
              "      <th>Skewness</th>\n",
              "      <th>Target</th>\n",
              "    </tr>\n",
              "  </thead>\n",
              "  <tbody>\n",
              "    <tr>\n",
              "      <th>0</th>\n",
              "      <td>0.000753</td>\n",
              "      <td>3.9757</td>\n",
              "      <td>0.0020</td>\n",
              "      <td>2.8817</td>\n",
              "      <td>43.5388</td>\n",
              "      <td>0.0135</td>\n",
              "      <td>0</td>\n",
              "    </tr>\n",
              "    <tr>\n",
              "      <th>1</th>\n",
              "      <td>-0.000102</td>\n",
              "      <td>4.4953</td>\n",
              "      <td>0.0017</td>\n",
              "      <td>2.6056</td>\n",
              "      <td>35.7801</td>\n",
              "      <td>0.0015</td>\n",
              "      <td>0</td>\n",
              "    </tr>\n",
              "    <tr>\n",
              "      <th>2</th>\n",
              "      <td>-0.000090</td>\n",
              "      <td>4.5453</td>\n",
              "      <td>0.0016</td>\n",
              "      <td>2.5671</td>\n",
              "      <td>35.2603</td>\n",
              "      <td>-0.0126</td>\n",
              "      <td>0</td>\n",
              "    </tr>\n",
              "    <tr>\n",
              "      <th>3</th>\n",
              "      <td>0.000496</td>\n",
              "      <td>4.4307</td>\n",
              "      <td>0.0017</td>\n",
              "      <td>2.6443</td>\n",
              "      <td>36.7637</td>\n",
              "      <td>-0.0053</td>\n",
              "      <td>0</td>\n",
              "    </tr>\n",
              "    <tr>\n",
              "      <th>4</th>\n",
              "      <td>-0.000377</td>\n",
              "      <td>3.1227</td>\n",
              "      <td>0.0030</td>\n",
              "      <td>3.4908</td>\n",
              "      <td>61.7647</td>\n",
              "      <td>-0.1275</td>\n",
              "      <td>0</td>\n",
              "    </tr>\n",
              "  </tbody>\n",
              "</table>\n",
              "</div>\n",
              "      <button class=\"colab-df-convert\" onclick=\"convertToInteractive('df-a85f8037-d448-4db8-9076-19d40dea7bcf')\"\n",
              "              title=\"Convert this dataframe to an interactive table.\"\n",
              "              style=\"display:none;\">\n",
              "        \n",
              "  <svg xmlns=\"http://www.w3.org/2000/svg\" height=\"24px\"viewBox=\"0 0 24 24\"\n",
              "       width=\"24px\">\n",
              "    <path d=\"M0 0h24v24H0V0z\" fill=\"none\"/>\n",
              "    <path d=\"M18.56 5.44l.94 2.06.94-2.06 2.06-.94-2.06-.94-.94-2.06-.94 2.06-2.06.94zm-11 1L8.5 8.5l.94-2.06 2.06-.94-2.06-.94L8.5 2.5l-.94 2.06-2.06.94zm10 10l.94 2.06.94-2.06 2.06-.94-2.06-.94-.94-2.06-.94 2.06-2.06.94z\"/><path d=\"M17.41 7.96l-1.37-1.37c-.4-.4-.92-.59-1.43-.59-.52 0-1.04.2-1.43.59L10.3 9.45l-7.72 7.72c-.78.78-.78 2.05 0 2.83L4 21.41c.39.39.9.59 1.41.59.51 0 1.02-.2 1.41-.59l7.78-7.78 2.81-2.81c.8-.78.8-2.07 0-2.86zM5.41 20L4 18.59l7.72-7.72 1.47 1.35L5.41 20z\"/>\n",
              "  </svg>\n",
              "      </button>\n",
              "      \n",
              "  <style>\n",
              "    .colab-df-container {\n",
              "      display:flex;\n",
              "      flex-wrap:wrap;\n",
              "      gap: 12px;\n",
              "    }\n",
              "\n",
              "    .colab-df-convert {\n",
              "      background-color: #E8F0FE;\n",
              "      border: none;\n",
              "      border-radius: 50%;\n",
              "      cursor: pointer;\n",
              "      display: none;\n",
              "      fill: #1967D2;\n",
              "      height: 32px;\n",
              "      padding: 0 0 0 0;\n",
              "      width: 32px;\n",
              "    }\n",
              "\n",
              "    .colab-df-convert:hover {\n",
              "      background-color: #E2EBFA;\n",
              "      box-shadow: 0px 1px 2px rgba(60, 64, 67, 0.3), 0px 1px 3px 1px rgba(60, 64, 67, 0.15);\n",
              "      fill: #174EA6;\n",
              "    }\n",
              "\n",
              "    [theme=dark] .colab-df-convert {\n",
              "      background-color: #3B4455;\n",
              "      fill: #D2E3FC;\n",
              "    }\n",
              "\n",
              "    [theme=dark] .colab-df-convert:hover {\n",
              "      background-color: #434B5C;\n",
              "      box-shadow: 0px 1px 3px 1px rgba(0, 0, 0, 0.15);\n",
              "      filter: drop-shadow(0px 1px 2px rgba(0, 0, 0, 0.3));\n",
              "      fill: #FFFFFF;\n",
              "    }\n",
              "  </style>\n",
              "\n",
              "      <script>\n",
              "        const buttonEl =\n",
              "          document.querySelector('#df-a85f8037-d448-4db8-9076-19d40dea7bcf button.colab-df-convert');\n",
              "        buttonEl.style.display =\n",
              "          google.colab.kernel.accessAllowed ? 'block' : 'none';\n",
              "\n",
              "        async function convertToInteractive(key) {\n",
              "          const element = document.querySelector('#df-a85f8037-d448-4db8-9076-19d40dea7bcf');\n",
              "          const dataTable =\n",
              "            await google.colab.kernel.invokeFunction('convertToInteractive',\n",
              "                                                     [key], {});\n",
              "          if (!dataTable) return;\n",
              "\n",
              "          const docLinkHtml = 'Like what you see? Visit the ' +\n",
              "            '<a target=\"_blank\" href=https://colab.research.google.com/notebooks/data_table.ipynb>data table notebook</a>'\n",
              "            + ' to learn more about interactive tables.';\n",
              "          element.innerHTML = '';\n",
              "          dataTable['output_type'] = 'display_data';\n",
              "          await google.colab.output.renderOutput(dataTable, element);\n",
              "          const docLink = document.createElement('div');\n",
              "          docLink.innerHTML = docLinkHtml;\n",
              "          element.appendChild(docLink);\n",
              "        }\n",
              "      </script>\n",
              "    </div>\n",
              "  </div>\n",
              "  "
            ]
          },
          "metadata": {},
          "execution_count": 8
        }
      ]
    },
    {
      "cell_type": "code",
      "source": [
        "dataset.shape#to know the sh ape of datafeame"
      ],
      "metadata": {
        "id": "DPOws0anDtd4",
        "colab": {
          "base_uri": "https://localhost:8080/"
        },
        "outputId": "a2cb77e8-a0d7-403f-fd6a-41c5e0ca979a"
      },
      "execution_count": 9,
      "outputs": [
        {
          "output_type": "execute_result",
          "data": {
            "text/plain": [
              "(1000, 7)"
            ]
          },
          "metadata": {},
          "execution_count": 9
        }
      ]
    },
    {
      "cell_type": "code",
      "source": [
        "#To know the columns names in dataset we use columns \n",
        "dataset.columns"
      ],
      "metadata": {
        "id": "O0sQBP_Ky8WS",
        "colab": {
          "base_uri": "https://localhost:8080/"
        },
        "outputId": "d584188d-4e89-4b05-b2ae-20dea6c1fbfe"
      },
      "execution_count": 10,
      "outputs": [
        {
          "output_type": "execute_result",
          "data": {
            "text/plain": [
              "Index(['Mean', 'Kurtosis', 'Varience', 'Max_Svd', 'Entropy_Svd', 'Skewness',\n",
              "       'Target'],\n",
              "      dtype='object')"
            ]
          },
          "metadata": {},
          "execution_count": 10
        }
      ]
    },
    {
      "cell_type": "code",
      "source": [
        "# To study the statastical summary of dataset we use discribe()\n",
        "dataset.describe()"
      ],
      "metadata": {
        "id": "BRR3bld0O9Pw",
        "colab": {
          "base_uri": "https://localhost:8080/",
          "height": 300
        },
        "outputId": "4631faee-3322-460a-b24f-161f4ab9c922"
      },
      "execution_count": 11,
      "outputs": [
        {
          "output_type": "execute_result",
          "data": {
            "text/plain": [
              "               Mean     Kurtosis     Varience      Max_Svd  Entropy_Svd  \\\n",
              "count  1.000000e+03  1000.000000  1000.000000  1000.000000  1000.000000   \n",
              "mean   4.126154e-05   209.450938     0.001088     1.541447    13.079525   \n",
              "std    5.601005e-04   236.171295     0.001609     1.423313    17.753771   \n",
              "min   -4.600000e-03     2.622300     0.000003     0.103900     0.086500   \n",
              "25%   -2.088550e-05    11.082075     0.000023     0.304725     0.677400   \n",
              "50%   -5.195000e-08   135.571500     0.000137     0.747400     2.313250   \n",
              "75%    2.035425e-05   290.646875     0.001700     2.655000    19.998300   \n",
              "max    4.000000e-03   963.478400     0.007900     5.672700   103.372600   \n",
              "\n",
              "          Skewness      Target  \n",
              "count  1000.000000  1000.00000  \n",
              "mean     -0.466901     0.50000  \n",
              "std       6.532415     0.50025  \n",
              "min     -27.773500     0.00000  \n",
              "25%      -1.463050     0.00000  \n",
              "50%      -0.002200     0.50000  \n",
              "75%       0.982925     1.00000  \n",
              "max      27.463400     1.00000  "
            ],
            "text/html": [
              "\n",
              "  <div id=\"df-eb611803-1ab9-482e-b43c-93c4cb71569f\">\n",
              "    <div class=\"colab-df-container\">\n",
              "      <div>\n",
              "<style scoped>\n",
              "    .dataframe tbody tr th:only-of-type {\n",
              "        vertical-align: middle;\n",
              "    }\n",
              "\n",
              "    .dataframe tbody tr th {\n",
              "        vertical-align: top;\n",
              "    }\n",
              "\n",
              "    .dataframe thead th {\n",
              "        text-align: right;\n",
              "    }\n",
              "</style>\n",
              "<table border=\"1\" class=\"dataframe\">\n",
              "  <thead>\n",
              "    <tr style=\"text-align: right;\">\n",
              "      <th></th>\n",
              "      <th>Mean</th>\n",
              "      <th>Kurtosis</th>\n",
              "      <th>Varience</th>\n",
              "      <th>Max_Svd</th>\n",
              "      <th>Entropy_Svd</th>\n",
              "      <th>Skewness</th>\n",
              "      <th>Target</th>\n",
              "    </tr>\n",
              "  </thead>\n",
              "  <tbody>\n",
              "    <tr>\n",
              "      <th>count</th>\n",
              "      <td>1.000000e+03</td>\n",
              "      <td>1000.000000</td>\n",
              "      <td>1000.000000</td>\n",
              "      <td>1000.000000</td>\n",
              "      <td>1000.000000</td>\n",
              "      <td>1000.000000</td>\n",
              "      <td>1000.00000</td>\n",
              "    </tr>\n",
              "    <tr>\n",
              "      <th>mean</th>\n",
              "      <td>4.126154e-05</td>\n",
              "      <td>209.450938</td>\n",
              "      <td>0.001088</td>\n",
              "      <td>1.541447</td>\n",
              "      <td>13.079525</td>\n",
              "      <td>-0.466901</td>\n",
              "      <td>0.50000</td>\n",
              "    </tr>\n",
              "    <tr>\n",
              "      <th>std</th>\n",
              "      <td>5.601005e-04</td>\n",
              "      <td>236.171295</td>\n",
              "      <td>0.001609</td>\n",
              "      <td>1.423313</td>\n",
              "      <td>17.753771</td>\n",
              "      <td>6.532415</td>\n",
              "      <td>0.50025</td>\n",
              "    </tr>\n",
              "    <tr>\n",
              "      <th>min</th>\n",
              "      <td>-4.600000e-03</td>\n",
              "      <td>2.622300</td>\n",
              "      <td>0.000003</td>\n",
              "      <td>0.103900</td>\n",
              "      <td>0.086500</td>\n",
              "      <td>-27.773500</td>\n",
              "      <td>0.00000</td>\n",
              "    </tr>\n",
              "    <tr>\n",
              "      <th>25%</th>\n",
              "      <td>-2.088550e-05</td>\n",
              "      <td>11.082075</td>\n",
              "      <td>0.000023</td>\n",
              "      <td>0.304725</td>\n",
              "      <td>0.677400</td>\n",
              "      <td>-1.463050</td>\n",
              "      <td>0.00000</td>\n",
              "    </tr>\n",
              "    <tr>\n",
              "      <th>50%</th>\n",
              "      <td>-5.195000e-08</td>\n",
              "      <td>135.571500</td>\n",
              "      <td>0.000137</td>\n",
              "      <td>0.747400</td>\n",
              "      <td>2.313250</td>\n",
              "      <td>-0.002200</td>\n",
              "      <td>0.50000</td>\n",
              "    </tr>\n",
              "    <tr>\n",
              "      <th>75%</th>\n",
              "      <td>2.035425e-05</td>\n",
              "      <td>290.646875</td>\n",
              "      <td>0.001700</td>\n",
              "      <td>2.655000</td>\n",
              "      <td>19.998300</td>\n",
              "      <td>0.982925</td>\n",
              "      <td>1.00000</td>\n",
              "    </tr>\n",
              "    <tr>\n",
              "      <th>max</th>\n",
              "      <td>4.000000e-03</td>\n",
              "      <td>963.478400</td>\n",
              "      <td>0.007900</td>\n",
              "      <td>5.672700</td>\n",
              "      <td>103.372600</td>\n",
              "      <td>27.463400</td>\n",
              "      <td>1.00000</td>\n",
              "    </tr>\n",
              "  </tbody>\n",
              "</table>\n",
              "</div>\n",
              "      <button class=\"colab-df-convert\" onclick=\"convertToInteractive('df-eb611803-1ab9-482e-b43c-93c4cb71569f')\"\n",
              "              title=\"Convert this dataframe to an interactive table.\"\n",
              "              style=\"display:none;\">\n",
              "        \n",
              "  <svg xmlns=\"http://www.w3.org/2000/svg\" height=\"24px\"viewBox=\"0 0 24 24\"\n",
              "       width=\"24px\">\n",
              "    <path d=\"M0 0h24v24H0V0z\" fill=\"none\"/>\n",
              "    <path d=\"M18.56 5.44l.94 2.06.94-2.06 2.06-.94-2.06-.94-.94-2.06-.94 2.06-2.06.94zm-11 1L8.5 8.5l.94-2.06 2.06-.94-2.06-.94L8.5 2.5l-.94 2.06-2.06.94zm10 10l.94 2.06.94-2.06 2.06-.94-2.06-.94-.94-2.06-.94 2.06-2.06.94z\"/><path d=\"M17.41 7.96l-1.37-1.37c-.4-.4-.92-.59-1.43-.59-.52 0-1.04.2-1.43.59L10.3 9.45l-7.72 7.72c-.78.78-.78 2.05 0 2.83L4 21.41c.39.39.9.59 1.41.59.51 0 1.02-.2 1.41-.59l7.78-7.78 2.81-2.81c.8-.78.8-2.07 0-2.86zM5.41 20L4 18.59l7.72-7.72 1.47 1.35L5.41 20z\"/>\n",
              "  </svg>\n",
              "      </button>\n",
              "      \n",
              "  <style>\n",
              "    .colab-df-container {\n",
              "      display:flex;\n",
              "      flex-wrap:wrap;\n",
              "      gap: 12px;\n",
              "    }\n",
              "\n",
              "    .colab-df-convert {\n",
              "      background-color: #E8F0FE;\n",
              "      border: none;\n",
              "      border-radius: 50%;\n",
              "      cursor: pointer;\n",
              "      display: none;\n",
              "      fill: #1967D2;\n",
              "      height: 32px;\n",
              "      padding: 0 0 0 0;\n",
              "      width: 32px;\n",
              "    }\n",
              "\n",
              "    .colab-df-convert:hover {\n",
              "      background-color: #E2EBFA;\n",
              "      box-shadow: 0px 1px 2px rgba(60, 64, 67, 0.3), 0px 1px 3px 1px rgba(60, 64, 67, 0.15);\n",
              "      fill: #174EA6;\n",
              "    }\n",
              "\n",
              "    [theme=dark] .colab-df-convert {\n",
              "      background-color: #3B4455;\n",
              "      fill: #D2E3FC;\n",
              "    }\n",
              "\n",
              "    [theme=dark] .colab-df-convert:hover {\n",
              "      background-color: #434B5C;\n",
              "      box-shadow: 0px 1px 3px 1px rgba(0, 0, 0, 0.15);\n",
              "      filter: drop-shadow(0px 1px 2px rgba(0, 0, 0, 0.3));\n",
              "      fill: #FFFFFF;\n",
              "    }\n",
              "  </style>\n",
              "\n",
              "      <script>\n",
              "        const buttonEl =\n",
              "          document.querySelector('#df-eb611803-1ab9-482e-b43c-93c4cb71569f button.colab-df-convert');\n",
              "        buttonEl.style.display =\n",
              "          google.colab.kernel.accessAllowed ? 'block' : 'none';\n",
              "\n",
              "        async function convertToInteractive(key) {\n",
              "          const element = document.querySelector('#df-eb611803-1ab9-482e-b43c-93c4cb71569f');\n",
              "          const dataTable =\n",
              "            await google.colab.kernel.invokeFunction('convertToInteractive',\n",
              "                                                     [key], {});\n",
              "          if (!dataTable) return;\n",
              "\n",
              "          const docLinkHtml = 'Like what you see? Visit the ' +\n",
              "            '<a target=\"_blank\" href=https://colab.research.google.com/notebooks/data_table.ipynb>data table notebook</a>'\n",
              "            + ' to learn more about interactive tables.';\n",
              "          element.innerHTML = '';\n",
              "          dataTable['output_type'] = 'display_data';\n",
              "          await google.colab.output.renderOutput(dataTable, element);\n",
              "          const docLink = document.createElement('div');\n",
              "          docLink.innerHTML = docLinkHtml;\n",
              "          element.appendChild(docLink);\n",
              "        }\n",
              "      </script>\n",
              "    </div>\n",
              "  </div>\n",
              "  "
            ]
          },
          "metadata": {},
          "execution_count": 11
        }
      ]
    },
    {
      "cell_type": "markdown",
      "source": [
        "# **About** **the** **distribution**"
      ],
      "metadata": {
        "id": "pxzkAgXqziT3"
      }
    },
    {
      "cell_type": "code",
      "source": [
        "#To check Whether NA's (missingvalues) present in dataset\n",
        "dataset.isnull().sum()"
      ],
      "metadata": {
        "id": "gdiMNDyGPITe",
        "colab": {
          "base_uri": "https://localhost:8080/"
        },
        "outputId": "ce3da8c6-5e03-4e98-85c8-302de478ddb5"
      },
      "execution_count": 12,
      "outputs": [
        {
          "output_type": "execute_result",
          "data": {
            "text/plain": [
              "Mean           0\n",
              "Kurtosis       0\n",
              "Varience       0\n",
              "Max_Svd        0\n",
              "Entropy_Svd    0\n",
              "Skewness       0\n",
              "Target         0\n",
              "dtype: int64"
            ]
          },
          "metadata": {},
          "execution_count": 12
        }
      ]
    },
    {
      "cell_type": "code",
      "source": [
        "#grouping data based on outcomes\n",
        "print(dataset.groupby(\"Target\").size())"
      ],
      "metadata": {
        "id": "h4wmWa9_kSFz",
        "colab": {
          "base_uri": "https://localhost:8080/"
        },
        "outputId": "6401a8ba-d964-405d-c8b9-7b124659143b"
      },
      "execution_count": 13,
      "outputs": [
        {
          "output_type": "stream",
          "name": "stdout",
          "text": [
            "Target\n",
            "0    500\n",
            "1    500\n",
            "dtype: int64\n"
          ]
        }
      ]
    },
    {
      "cell_type": "markdown",
      "source": [
        "# **Data** **visualization**"
      ],
      "metadata": {
        "id": "okgExzG0UpTX"
      }
    },
    {
      "cell_type": "code",
      "source": [
        "sns.countplot(dataset['Target'],label=\"Count\",palette=\"coolwarm\")# visualizing the count of each element  in outcome column"
      ],
      "metadata": {
        "id": "aHFRIMRv2ZoK",
        "colab": {
          "base_uri": "https://localhost:8080/",
          "height": 351
        },
        "outputId": "ecbd9196-b060-4e8e-d5dd-ee091e5661d0"
      },
      "execution_count": 14,
      "outputs": [
        {
          "output_type": "stream",
          "name": "stderr",
          "text": [
            "/usr/local/lib/python3.7/dist-packages/seaborn/_decorators.py:43: FutureWarning: Pass the following variable as a keyword arg: x. From version 0.12, the only valid positional argument will be `data`, and passing other arguments without an explicit keyword will result in an error or misinterpretation.\n",
            "  FutureWarning\n"
          ]
        },
        {
          "output_type": "execute_result",
          "data": {
            "text/plain": [
              "<matplotlib.axes._subplots.AxesSubplot at 0x7f72e25ae710>"
            ]
          },
          "metadata": {},
          "execution_count": 14
        },
        {
          "output_type": "display_data",
          "data": {
            "text/plain": [
              "<Figure size 432x288 with 1 Axes>"
            ],
            "image/png": "[encoded data removed]"
          },
          "metadata": {
            "needs_background": "light"
          }
        }
      ]
    },
    {
      "cell_type": "markdown",
      "source": [
        "# **Splitting data**"
      ],
      "metadata": {
        "id": "osbQwkgxVadD"
      }
    },
    {
      "cell_type": "code",
      "source": [
        "X,y=dataset.loc[:,['Mean', 'Kurtosis', 'Varience', 'Max_Svd', 'Entropy_Svd', 'Skewness']], dataset['Target']\n",
        "  "
      ],
      "metadata": {
        "id": "-Ns2Y2wVVHwE"
      },
      "execution_count": 15,
      "outputs": []
    },
    {
      "cell_type": "code",
      "source": [
        "# calculate the ideal test condition\n",
        "#ideal, _, _ = evaluate_model(LeaveOneOut())\n",
        "#print('Ideal: %.3f' % ideal)\n",
        "def report(clf):\n",
        "  folds = range(2,31)\n",
        "\n",
        "  # record mean and min/max of each set of results\n",
        "  means, mins, maxs = list(),list(),list()\n",
        "  # evaluate each k value\n",
        "  for k in folds:\n",
        "    # define the test condition\n",
        "    cv = KFold(n_splits=k, shuffle=True, random_state=1)\n",
        "    scores = cross_val_score(clf, X, y, scoring='accuracy', cv=cv, n_jobs=-1)\n",
        "    k_mean =mean(scores)\n",
        "    # report performance\n",
        "    print('> folds=%d, accuracy=%.3f' % (k, k_mean))\n",
        "    # store mean accuracy\n",
        "    means.append(k_mean)\n",
        "    # store min and max relative to the mean"
      ],
      "metadata": {
        "id": "j9yn4LEbPdNu"
      },
      "execution_count": 20,
      "outputs": []
    },
    {
      "cell_type": "code",
      "source": [
        "clf = svm.SVC(kernel='poly',degree=2) \n",
        "#declaring a variable to svm model\n",
        "\n"
      ],
      "metadata": {
        "id": "1HnMviheVnJ1"
      },
      "execution_count": 21,
      "outputs": []
    },
    {
      "cell_type": "code",
      "source": [
        "print(\"SVM Classifier\")\n",
        "report(clf)"
      ],
      "metadata": {
        "id": "J1vXaHFjWzSG",
        "colab": {
          "base_uri": "https://localhost:8080/"
        },
        "outputId": "601534e6-7ec9-41d5-ab13-3d1148fc741d"
      },
      "execution_count": 22,
      "outputs": [
        {
          "output_type": "stream",
          "name": "stdout",
          "text": [
            "SVM Classifier\n",
            "> folds=2, accuracy=0.496\n",
            "> folds=3, accuracy=0.489\n",
            "> folds=4, accuracy=0.488\n",
            "> folds=5, accuracy=0.481\n",
            "> folds=6, accuracy=0.480\n",
            "> folds=7, accuracy=0.480\n",
            "> folds=8, accuracy=0.464\n",
            "> folds=9, accuracy=0.460\n",
            "> folds=10, accuracy=0.463\n",
            "> folds=11, accuracy=0.466\n",
            "> folds=12, accuracy=0.460\n",
            "> folds=13, accuracy=0.461\n",
            "> folds=14, accuracy=0.458\n",
            "> folds=15, accuracy=0.454\n",
            "> folds=16, accuracy=0.451\n",
            "> folds=17, accuracy=0.453\n",
            "> folds=18, accuracy=0.445\n",
            "> folds=19, accuracy=0.456\n",
            "> folds=20, accuracy=0.448\n",
            "> folds=21, accuracy=0.440\n",
            "> folds=22, accuracy=0.452\n",
            "> folds=23, accuracy=0.441\n",
            "> folds=24, accuracy=0.433\n",
            "> folds=25, accuracy=0.447\n",
            "> folds=26, accuracy=0.435\n",
            "> folds=27, accuracy=0.439\n",
            "> folds=28, accuracy=0.449\n",
            "> folds=29, accuracy=0.436\n",
            "> folds=30, accuracy=0.436\n"
          ]
        }
      ]
    },
    {
      "cell_type": "code",
      "source": [
        "#fittting the training set into model\n",
        "tree = DecisionTreeClassifier()"
      ],
      "metadata": {
        "id": "Q6zI_D6hcfHK"
      },
      "execution_count": 23,
      "outputs": []
    },
    {
      "cell_type": "code",
      "source": [
        "print(\"Decision Tree Classifier\")\n",
        "report(tree)"
      ],
      "metadata": {
        "id": "lVXQgK3SdOFa",
        "colab": {
          "base_uri": "https://localhost:8080/"
        },
        "outputId": "0554dd00-bf3b-44ee-9721-b30e1fb907eb"
      },
      "execution_count": 24,
      "outputs": [
        {
          "output_type": "stream",
          "name": "stdout",
          "text": [
            "Decision Tree Classifier\n",
            "> folds=2, accuracy=0.577\n",
            "> folds=3, accuracy=0.607\n",
            "> folds=4, accuracy=0.596\n",
            "> folds=5, accuracy=0.621\n",
            "> folds=6, accuracy=0.631\n",
            "> folds=7, accuracy=0.614\n",
            "> folds=8, accuracy=0.629\n",
            "> folds=9, accuracy=0.617\n",
            "> folds=10, accuracy=0.643\n",
            "> folds=11, accuracy=0.644\n",
            "> folds=12, accuracy=0.624\n",
            "> folds=13, accuracy=0.627\n",
            "> folds=14, accuracy=0.621\n",
            "> folds=15, accuracy=0.615\n",
            "> folds=16, accuracy=0.650\n",
            "> folds=17, accuracy=0.642\n",
            "> folds=18, accuracy=0.628\n",
            "> folds=19, accuracy=0.652\n",
            "> folds=20, accuracy=0.633\n",
            "> folds=21, accuracy=0.653\n",
            "> folds=22, accuracy=0.639\n",
            "> folds=23, accuracy=0.647\n",
            "> folds=24, accuracy=0.652\n",
            "> folds=25, accuracy=0.618\n",
            "> folds=26, accuracy=0.652\n",
            "> folds=27, accuracy=0.633\n",
            "> folds=28, accuracy=0.635\n",
            "> folds=29, accuracy=0.660\n",
            "> folds=30, accuracy=0.639\n"
          ]
        }
      ]
    },
    {
      "cell_type": "code",
      "source": [
        "#fitting our nodel with training sets\n",
        "ran=RandomForestClassifier(n_estimators=100)"
      ],
      "metadata": {
        "id": "owTpTiu-ds8x"
      },
      "execution_count": 25,
      "outputs": []
    },
    {
      "cell_type": "code",
      "source": [
        "print(\"Random Forest Classifier\")\n",
        "report(ran)"
      ],
      "metadata": {
        "id": "lp-OC14keJ7G",
        "colab": {
          "base_uri": "https://localhost:8080/"
        },
        "outputId": "5f3389fa-1ba8-4df9-f966-45b5df748138"
      },
      "execution_count": 26,
      "outputs": [
        {
          "output_type": "stream",
          "name": "stdout",
          "text": [
            "Random Forest Classifier\n",
            "> folds=2, accuracy=0.655\n",
            "> folds=3, accuracy=0.653\n",
            "> folds=4, accuracy=0.681\n",
            "> folds=5, accuracy=0.679\n",
            "> folds=6, accuracy=0.679\n",
            "> folds=7, accuracy=0.663\n",
            "> folds=8, accuracy=0.678\n",
            "> folds=9, accuracy=0.654\n",
            "> folds=10, accuracy=0.677\n",
            "> folds=11, accuracy=0.668\n",
            "> folds=12, accuracy=0.674\n",
            "> folds=13, accuracy=0.667\n",
            "> folds=14, accuracy=0.667\n",
            "> folds=15, accuracy=0.681\n",
            "> folds=16, accuracy=0.674\n",
            "> folds=17, accuracy=0.679\n",
            "> folds=18, accuracy=0.672\n",
            "> folds=19, accuracy=0.666\n",
            "> folds=20, accuracy=0.667\n",
            "> folds=21, accuracy=0.674\n",
            "> folds=22, accuracy=0.679\n",
            "> folds=23, accuracy=0.665\n",
            "> folds=24, accuracy=0.664\n",
            "> folds=25, accuracy=0.674\n",
            "> folds=26, accuracy=0.672\n",
            "> folds=27, accuracy=0.670\n",
            "> folds=28, accuracy=0.692\n",
            "> folds=29, accuracy=0.666\n",
            "> folds=30, accuracy=0.681\n"
          ]
        }
      ]
    },
    {
      "cell_type": "code",
      "source": [
        "#now building  adaboostclassifier on training sets and fitting \n",
        "classifier = AdaBoostClassifier(\n",
        "    DecisionTreeClassifier(max_depth=1),\n",
        "    n_estimators=100\n",
        ")"
      ],
      "metadata": {
        "id": "gn_lNlJlhJ6X"
      },
      "execution_count": 27,
      "outputs": []
    },
    {
      "cell_type": "code",
      "source": [
        "print(\"Adaboost\")\n",
        "report(classifier)"
      ],
      "metadata": {
        "id": "CCmDQcA5hZM-",
        "colab": {
          "base_uri": "https://localhost:8080/"
        },
        "outputId": "5f900cb5-738e-40e4-c6eb-9295a1250258"
      },
      "execution_count": 28,
      "outputs": [
        {
          "output_type": "stream",
          "name": "stdout",
          "text": [
            "Adaboost\n",
            "> folds=2, accuracy=0.588\n",
            "> folds=3, accuracy=0.581\n",
            "> folds=4, accuracy=0.585\n",
            "> folds=5, accuracy=0.602\n",
            "> folds=6, accuracy=0.581\n",
            "> folds=7, accuracy=0.590\n",
            "> folds=8, accuracy=0.603\n",
            "> folds=9, accuracy=0.586\n",
            "> folds=10, accuracy=0.605\n",
            "> folds=11, accuracy=0.603\n",
            "> folds=12, accuracy=0.591\n",
            "> folds=13, accuracy=0.596\n",
            "> folds=14, accuracy=0.617\n",
            "> folds=15, accuracy=0.609\n",
            "> folds=16, accuracy=0.603\n",
            "> folds=17, accuracy=0.591\n",
            "> folds=18, accuracy=0.593\n",
            "> folds=19, accuracy=0.591\n",
            "> folds=20, accuracy=0.596\n",
            "> folds=21, accuracy=0.593\n",
            "> folds=22, accuracy=0.609\n",
            "> folds=23, accuracy=0.592\n",
            "> folds=24, accuracy=0.591\n",
            "> folds=25, accuracy=0.612\n",
            "> folds=26, accuracy=0.599\n",
            "> folds=27, accuracy=0.605\n",
            "> folds=28, accuracy=0.594\n",
            "> folds=29, accuracy=0.593\n",
            "> folds=30, accuracy=0.615\n"
          ]
        }
      ]
    },
    {
      "cell_type": "code",
      "source": [
        "from sklearn.neighbors import KNeighborsClassifier\n",
        "knc = KNeighborsClassifier(n_neighbors=50)"
      ],
      "metadata": {
        "id": "4jIZwsWe9Rom"
      },
      "execution_count": 29,
      "outputs": []
    },
    {
      "cell_type": "code",
      "source": [
        "print(\"KNN\")\n",
        "report(knc)"
      ],
      "metadata": {
        "id": "D9M99doe9yh8",
        "colab": {
          "base_uri": "https://localhost:8080/"
        },
        "outputId": "ab080f01-810b-4fe2-bbcf-ae12447bab3f"
      },
      "execution_count": 30,
      "outputs": [
        {
          "output_type": "stream",
          "name": "stdout",
          "text": [
            "KNN\n",
            "> folds=2, accuracy=0.490\n",
            "> folds=3, accuracy=0.466\n",
            "> folds=4, accuracy=0.487\n",
            "> folds=5, accuracy=0.498\n",
            "> folds=6, accuracy=0.494\n",
            "> folds=7, accuracy=0.489\n",
            "> folds=8, accuracy=0.484\n",
            "> folds=9, accuracy=0.487\n",
            "> folds=10, accuracy=0.494\n",
            "> folds=11, accuracy=0.466\n",
            "> folds=12, accuracy=0.483\n",
            "> folds=13, accuracy=0.488\n",
            "> folds=14, accuracy=0.478\n",
            "> folds=15, accuracy=0.475\n",
            "> folds=16, accuracy=0.485\n",
            "> folds=17, accuracy=0.476\n",
            "> folds=18, accuracy=0.484\n",
            "> folds=19, accuracy=0.467\n",
            "> folds=20, accuracy=0.486\n",
            "> folds=21, accuracy=0.474\n",
            "> folds=22, accuracy=0.483\n",
            "> folds=23, accuracy=0.485\n",
            "> folds=24, accuracy=0.488\n",
            "> folds=25, accuracy=0.479\n",
            "> folds=26, accuracy=0.488\n",
            "> folds=27, accuracy=0.490\n",
            "> folds=28, accuracy=0.490\n",
            "> folds=29, accuracy=0.471\n",
            "> folds=30, accuracy=0.485\n"
          ]
        }
      ]
    },
    {
      "cell_type": "code",
      "source": [
        "from sklearn.linear_model import LogisticRegression\n",
        "lrc = LogisticRegression(solver='liblinear', penalty='l1')"
      ],
      "metadata": {
        "id": "HuXdwl2t_Ymv"
      },
      "execution_count": 31,
      "outputs": []
    },
    {
      "cell_type": "code",
      "source": [
        "print(\"Logistic Regression\")\n",
        "report(lrc)"
      ],
      "metadata": {
        "id": "lcp7zFZO_nc6",
        "colab": {
          "base_uri": "https://localhost:8080/"
        },
        "outputId": "5bd5118c-2b0e-4966-b945-8b2552fa17ff"
      },
      "execution_count": 32,
      "outputs": [
        {
          "output_type": "stream",
          "name": "stdout",
          "text": [
            "Logistic Regression\n",
            "> folds=2, accuracy=0.483\n",
            "> folds=3, accuracy=0.458\n",
            "> folds=4, accuracy=0.470\n",
            "> folds=5, accuracy=0.465\n",
            "> folds=6, accuracy=0.474\n",
            "> folds=7, accuracy=0.466\n",
            "> folds=8, accuracy=0.475\n",
            "> folds=9, accuracy=0.464\n",
            "> folds=10, accuracy=0.476\n",
            "> folds=11, accuracy=0.471\n",
            "> folds=12, accuracy=0.481\n",
            "> folds=13, accuracy=0.472\n",
            "> folds=14, accuracy=0.478\n",
            "> folds=15, accuracy=0.462\n",
            "> folds=16, accuracy=0.481\n",
            "> folds=17, accuracy=0.464\n",
            "> folds=18, accuracy=0.480\n",
            "> folds=19, accuracy=0.461\n",
            "> folds=20, accuracy=0.479\n",
            "> folds=21, accuracy=0.465\n",
            "> folds=22, accuracy=0.471\n",
            "> folds=23, accuracy=0.477\n",
            "> folds=24, accuracy=0.477\n",
            "> folds=25, accuracy=0.475\n",
            "> folds=26, accuracy=0.469\n",
            "> folds=27, accuracy=0.480\n",
            "> folds=28, accuracy=0.475\n",
            "> folds=29, accuracy=0.478\n",
            "> folds=30, accuracy=0.470\n"
          ]
        }
      ]
    },
    {
      "cell_type": "code",
      "source": [
        "from sklearn.ensemble import BaggingClassifier\n",
        "bc = BaggingClassifier(n_estimators=100)"
      ],
      "metadata": {
        "id": "Pb2ROPdWCS_4"
      },
      "execution_count": 33,
      "outputs": []
    },
    {
      "cell_type": "code",
      "source": [
        "print(\"bagging\")\n",
        "report(bc)"
      ],
      "metadata": {
        "id": "DEt7Lm4YCq8N",
        "colab": {
          "base_uri": "https://localhost:8080/"
        },
        "outputId": "2a50358d-f3f0-4318-cb91-161822733cb5"
      },
      "execution_count": 34,
      "outputs": [
        {
          "output_type": "stream",
          "name": "stdout",
          "text": [
            "bagging\n",
            "> folds=2, accuracy=0.653\n",
            "> folds=3, accuracy=0.652\n",
            "> folds=4, accuracy=0.677\n",
            "> folds=5, accuracy=0.684\n",
            "> folds=6, accuracy=0.683\n",
            "> folds=7, accuracy=0.663\n",
            "> folds=8, accuracy=0.679\n",
            "> folds=9, accuracy=0.662\n",
            "> folds=10, accuracy=0.675\n",
            "> folds=11, accuracy=0.675\n",
            "> folds=12, accuracy=0.680\n",
            "> folds=13, accuracy=0.675\n",
            "> folds=14, accuracy=0.679\n",
            "> folds=15, accuracy=0.678\n",
            "> folds=16, accuracy=0.698\n",
            "> folds=17, accuracy=0.673\n",
            "> folds=18, accuracy=0.675\n",
            "> folds=19, accuracy=0.692\n",
            "> folds=20, accuracy=0.682\n",
            "> folds=21, accuracy=0.669\n",
            "> folds=22, accuracy=0.670\n",
            "> folds=23, accuracy=0.679\n",
            "> folds=24, accuracy=0.666\n",
            "> folds=25, accuracy=0.679\n",
            "> folds=26, accuracy=0.686\n",
            "> folds=27, accuracy=0.694\n",
            "> folds=28, accuracy=0.671\n",
            "> folds=29, accuracy=0.679\n",
            "> folds=30, accuracy=0.684\n"
          ]
        }
      ]
    }
  ]
}